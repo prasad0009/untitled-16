{
 "cells": [
  {
   "cell_type": "code",
   "execution_count": 1,
   "id": "55fbf1b2-91eb-414e-b1f8-5f3d2e873671",
   "metadata": {},
   "outputs": [],
   "source": [
    "name_=\"prasad Rokade\""
   ]
  },
  {
   "cell_type": "code",
   "execution_count": 2,
   "id": "76f42de7-ad85-48cf-abc0-6a7a2eec1096",
   "metadata": {},
   "outputs": [],
   "source": [
    "_ =\"Prasad Rokade\""
   ]
  },
  {
   "cell_type": "code",
   "execution_count": 3,
   "id": "c84b5b21-c6e8-4b70-b8be-78d7b74b7ce2",
   "metadata": {},
   "outputs": [
    {
     "ename": "SyntaxError",
     "evalue": "cannot assign to literal here. Maybe you meant '==' instead of '='? (2118549695.py, line 1)",
     "output_type": "error",
     "traceback": [
      "\u001b[0;36m  Cell \u001b[0;32mIn[3], line 1\u001b[0;36m\u001b[0m\n\u001b[0;31m    43 =\"Prasad rokade\"\u001b[0m\n\u001b[0m    ^\u001b[0m\n\u001b[0;31mSyntaxError\u001b[0m\u001b[0;31m:\u001b[0m cannot assign to literal here. Maybe you meant '==' instead of '='?\n"
     ]
    }
   ],
   "source": [
    "43 =\"Prasad rokade\""
   ]
  },
  {
   "cell_type": "code",
   "execution_count": 4,
   "id": "8e31ee04-43c1-4e3b-a449-6dda06ccc52e",
   "metadata": {},
   "outputs": [],
   "source": [
    "Roll_no_43=\"Prasad Rokade\""
   ]
  },
  {
   "cell_type": "code",
   "execution_count": 6,
   "id": "8c2d930d-7eb3-4178-8c47-703e00e6dc59",
   "metadata": {
    "scrolled": true
   },
   "outputs": [
    {
     "data": {
      "text/plain": [
       "'Prasad Rokade'"
      ]
     },
     "execution_count": 6,
     "metadata": {},
     "output_type": "execute_result"
    }
   ],
   "source": [
    "Roll_no_43"
   ]
  },
  {
   "cell_type": "markdown",
   "id": "65acd2ba-da97-4f09-a47d-36c97e270d34",
   "metadata": {
    "jp-MarkdownHeadingCollapsed": true
   },
   "source": [
    "True =\"prasad Rokade\" "
   ]
  },
  {
   "cell_type": "code",
   "execution_count": 7,
   "id": "a8f54724-273f-4dcd-b750-9daaa9693e07",
   "metadata": {},
   "outputs": [
    {
     "ename": "SyntaxError",
     "evalue": "invalid syntax (2242831.py, line 1)",
     "output_type": "error",
     "traceback": [
      "\u001b[0;36m  Cell \u001b[0;32mIn[7], line 1\u001b[0;36m\u001b[0m\n\u001b[0;31m    na me=\"Prasad rokade\"\u001b[0m\n\u001b[0m       ^\u001b[0m\n\u001b[0;31mSyntaxError\u001b[0m\u001b[0;31m:\u001b[0m invalid syntax\n"
     ]
    }
   ],
   "source": [
    " na me=\"Prasad rokade\""
   ]
  },
  {
   "cell_type": "code",
   "execution_count": 8,
   "id": "6aaf2cac-54e6-439e-b2c8-4e370639a3a0",
   "metadata": {},
   "outputs": [],
   "source": [
    "age=21"
   ]
  },
  {
   "cell_type": "code",
   "execution_count": 9,
   "id": "45964b31-aba4-4132-ae69-8183eccb0995",
   "metadata": {},
   "outputs": [],
   "source": [
    "Age=24"
   ]
  },
  {
   "cell_type": "code",
   "execution_count": 10,
   "id": "a44c5893-b1c4-4818-89df-35982451d581",
   "metadata": {},
   "outputs": [
    {
     "data": {
      "text/plain": [
       "21"
      ]
     },
     "execution_count": 10,
     "metadata": {},
     "output_type": "execute_result"
    }
   ],
   "source": [
    "age"
   ]
  },
  {
   "cell_type": "code",
   "execution_count": 11,
   "id": "e8c8758d-a9c4-4f4e-b05b-16b25cccd104",
   "metadata": {},
   "outputs": [
    {
     "data": {
      "text/plain": [
       "24"
      ]
     },
     "execution_count": 11,
     "metadata": {},
     "output_type": "execute_result"
    }
   ],
   "source": [
    "Age"
   ]
  },
  {
   "cell_type": "code",
   "execution_count": 12,
   "id": "1157b6ca-172a-4acc-ac32-8ccbdcbfb610",
   "metadata": {},
   "outputs": [],
   "source": [
    "name21=\"Prasad rokade\"end='\\t'"
   ]
  },
  {
   "cell_type": "code",
   "execution_count": 13,
   "id": "11b1e438-52a5-4e73-9217-2a9341fb891a",
   "metadata": {},
   "outputs": [
    {
     "data": {
      "text/plain": [
       "'Prasad rokade'"
      ]
     },
     "execution_count": 13,
     "metadata": {},
     "output_type": "execute_result"
    }
   ],
   "source": [
    "name21"
   ]
  },
  {
   "cell_type": "code",
   "execution_count": 15,
   "id": "f6652d50-ad9f-4103-8ecb-88bc76cc0960",
   "metadata": {},
   "outputs": [],
   "source": [
    "a,b=23,67"
   ]
  },
  {
   "cell_type": "code",
   "execution_count": 16,
   "id": "b80a105a-3e78-4887-ae96-01f716e82a59",
   "metadata": {},
   "outputs": [
    {
     "data": {
      "text/plain": [
       "(23, 67)"
      ]
     },
     "execution_count": 16,
     "metadata": {},
     "output_type": "execute_result"
    }
   ],
   "source": [
    "a,b"
   ]
  },
  {
   "cell_type": "code",
   "execution_count": 32,
   "id": "10a927e0-a556-4232-8966-f0e2da1c260d",
   "metadata": {},
   "outputs": [],
   "source": [
    "a,b,c=23,67,45"
   ]
  },
  {
   "cell_type": "code",
   "execution_count": 33,
   "id": "8d3c0e5e-3dec-45dc-a69e-b9fa5729b9ff",
   "metadata": {},
   "outputs": [
    {
     "data": {
      "text/plain": [
       "23"
      ]
     },
     "execution_count": 33,
     "metadata": {},
     "output_type": "execute_result"
    }
   ],
   "source": [
    "a"
   ]
  },
  {
   "cell_type": "code",
   "execution_count": 34,
   "id": "f251fc82-93a6-412d-a24c-226cd8b8cbfa",
   "metadata": {},
   "outputs": [
    {
     "data": {
      "text/plain": [
       "67"
      ]
     },
     "execution_count": 34,
     "metadata": {},
     "output_type": "execute_result"
    }
   ],
   "source": [
    "b"
   ]
  },
  {
   "cell_type": "code",
   "execution_count": 35,
   "id": "a1018456-285d-4867-82ca-29658ae1a1b4",
   "metadata": {},
   "outputs": [
    {
     "data": {
      "text/plain": [
       "45"
      ]
     },
     "execution_count": 35,
     "metadata": {},
     "output_type": "execute_result"
    }
   ],
   "source": [
    "c"
   ]
  },
  {
   "cell_type": "code",
   "execution_count": 36,
   "id": "deb0af7d-a2f5-44e8-9a66-c4efe917cc59",
   "metadata": {},
   "outputs": [
    {
     "name": "stdout",
     "output_type": "stream",
     "text": [
      "67\n"
     ]
    }
   ],
   "source": [
    "print (b)"
   ]
  },
  {
   "cell_type": "code",
   "execution_count": 37,
   "id": "bc490bf1-9fea-4201-b5a2-bc2f7e17fcff",
   "metadata": {},
   "outputs": [
    {
     "name": "stdout",
     "output_type": "stream",
     "text": [
      "Prasad Rokade\n"
     ]
    }
   ],
   "source": [
    "#library funtion or,in built funtion\n",
    "print(\"Prasad Rokade\")\n"
   ]
  },
  {
   "cell_type": "code",
   "execution_count": 38,
   "id": "3b6b3c28-30f7-407f-a28f-daba5ba3b1a5",
   "metadata": {
    "scrolled": true
   },
   "outputs": [
    {
     "name": "stdout",
     "output_type": "stream",
     "text": [
      "23\n",
      "a\n"
     ]
    }
   ],
   "source": [
    "print(a)\n",
    "print(\"a\")"
   ]
  },
  {
   "cell_type": "code",
   "execution_count": 39,
   "id": "bfe66ace-8f5c-423c-85fe-874f8d7670b4",
   "metadata": {},
   "outputs": [
    {
     "name": "stdout",
     "output_type": "stream",
     "text": [
      "23 67 45\n"
     ]
    }
   ],
   "source": [
    "print(a,b,c)"
   ]
  },
  {
   "cell_type": "code",
   "execution_count": 44,
   "id": "a9b36939-a959-4b21-9b15-a01ea88b28b1",
   "metadata": {},
   "outputs": [],
   "source": [
    "#o/p--type(name2)->23,67,45"
   ]
  },
  {
   "cell_type": "code",
   "execution_count": 46,
   "id": "a4773a12-b6e4-4989-8806-612ed942717f",
   "metadata": {},
   "outputs": [
    {
     "name": "stdout",
     "output_type": "stream",
     "text": [
      "23,67,45\n"
     ]
    }
   ],
   "source": [
    "print(23,67,45, sep=',')"
   ]
  },
  {
   "cell_type": "code",
   "execution_count": 49,
   "id": "05d26f91-e1cb-4cce-85c5-3d9e385e40cd",
   "metadata": {},
   "outputs": [],
   "source": [
    "name=\"Prasad rokade\""
   ]
  },
  {
   "cell_type": "code",
   "execution_count": 50,
   "id": "2aae02d1-93c9-4fd5-b0c9-b1c8b50d2029",
   "metadata": {},
   "outputs": [
    {
     "data": {
      "text/plain": [
       "str"
      ]
     },
     "execution_count": 50,
     "metadata": {},
     "output_type": "execute_result"
    }
   ],
   "source": [
    "type(name)"
   ]
  },
  {
   "cell_type": "code",
   "execution_count": 51,
   "id": "8e7fc46a-d00f-4d09-90e5-d235560d2c0b",
   "metadata": {},
   "outputs": [],
   "source": [
    "name1='Prasad rokade'"
   ]
  },
  {
   "cell_type": "code",
   "execution_count": 52,
   "id": "c9916291-538f-4fb1-a908-9d4304db512e",
   "metadata": {},
   "outputs": [
    {
     "data": {
      "text/plain": [
       "str"
      ]
     },
     "execution_count": 52,
     "metadata": {},
     "output_type": "execute_result"
    }
   ],
   "source": [
    "type(name1)"
   ]
  },
  {
   "cell_type": "code",
   "execution_count": 53,
   "id": "2663c863-057c-442c-a8d6-0f14201d95e5",
   "metadata": {},
   "outputs": [],
   "source": [
    "name2=\"\"\"Prasad rokade\"\"\""
   ]
  },
  {
   "cell_type": "code",
   "execution_count": 54,
   "id": "e53e2a9e-4ec1-4715-af01-6fc59fee8bf0",
   "metadata": {},
   "outputs": [
    {
     "data": {
      "text/plain": [
       "str"
      ]
     },
     "execution_count": 54,
     "metadata": {},
     "output_type": "execute_result"
    }
   ],
   "source": [
    "type(name2)"
   ]
  },
  {
   "cell_type": "code",
   "execution_count": 55,
   "id": "a66367ac-b08b-4d86-bd30-77304be3e979",
   "metadata": {},
   "outputs": [],
   "source": [
    "name3='''Prasad rokade'''"
   ]
  },
  {
   "cell_type": "code",
   "execution_count": 56,
   "id": "7f44ef37-2be4-4d51-819f-cc268b830483",
   "metadata": {},
   "outputs": [
    {
     "data": {
      "text/plain": [
       "str"
      ]
     },
     "execution_count": 56,
     "metadata": {},
     "output_type": "execute_result"
    }
   ],
   "source": [
    "type(name3)"
   ]
  },
  {
   "cell_type": "code",
   "execution_count": 57,
   "id": "41f491d2-717d-4465-bbab-c275166c3975",
   "metadata": {},
   "outputs": [],
   "source": [
    "#single quote in string is allowed.\n",
    "#double quote in string is allowed"
   ]
  },
  {
   "cell_type": "code",
   "execution_count": 58,
   "id": "4d8df8aa-c8de-46e8-8a2b-788cc645079d",
   "metadata": {},
   "outputs": [
    {
     "name": "stdout",
     "output_type": "stream",
     "text": [
      "prasad rokade\n",
      "bhimraj lad\n"
     ]
    }
   ],
   "source": [
    "print(\"prasad rokade\")\n",
    "print(\"bhimraj lad\")"
   ]
  },
  {
   "cell_type": "code",
   "execution_count": 64,
   "id": "4496277a-c9f3-4e10-bc83-10cb17be2a35",
   "metadata": {},
   "outputs": [
    {
     "name": "stdout",
     "output_type": "stream",
     "text": [
      "prasad rokade\n",
      "prasad rokade \tbhimraj lad\t"
     ]
    }
   ],
   "source": [
    "print(\"prasad rokade\")\n",
    "print(\"prasad rokade \",end='\\t')\n",
    "print(\"bhimraj lad\", end='\\t')"
   ]
  },
  {
   "cell_type": "code",
   "execution_count": null,
   "id": "84908a62-4b9b-4842-8afa-5e3972d8c589",
   "metadata": {},
   "outputs": [],
   "source": []
  }
 ],
 "metadata": {
  "kernelspec": {
   "display_name": "Python 3 (ipykernel)",
   "language": "python",
   "name": "python3"
  },
  "language_info": {
   "codemirror_mode": {
    "name": "ipython",
    "version": 3
   },
   "file_extension": ".py",
   "mimetype": "text/x-python",
   "name": "python",
   "nbconvert_exporter": "python",
   "pygments_lexer": "ipython3",
   "version": "3.12.4"
  }
 },
 "nbformat": 4,
 "nbformat_minor": 5
}
